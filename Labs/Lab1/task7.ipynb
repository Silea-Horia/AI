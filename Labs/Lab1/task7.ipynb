{
 "cells": [
  {
   "cell_type": "code",
   "execution_count": 1,
   "metadata": {},
   "outputs": [
    {
     "name": "stdout",
     "output_type": "stream",
     "text": [
      "theoretical result: 0.2642\n",
      "simulation result: 0.2593\n"
     ]
    }
   ],
   "source": [
    "#task7\n",
    "import numpy as np\n",
    "\n",
    "NO_SIMULATIONS = 10000\n",
    "\n",
    "class Point:\n",
    "    def __init__(self, xCoordinate: float, yCoordinate: float):\n",
    "        self.xCoordinate = xCoordinate\n",
    "        self.yCoordinate = yCoordinate\n",
    "\n",
    "    def getXCoordinate(self) -> float:\n",
    "        return self.xCoordinate\n",
    "\n",
    "    def getYCoordinate(self) -> float:\n",
    "        return self.yCoordinate\n",
    "\n",
    "class Circle:\n",
    "    def __init__(self, centerX: float, centerY: float, radius: float):\n",
    "        self.center = Point(centerX, centerY)\n",
    "        self.radius = radius\n",
    "\n",
    "    def getCenter(self) -> Point:\n",
    "        return self.center\n",
    "\n",
    "    def getRadius(self) -> float:\n",
    "        return self.radius\n",
    "\n",
    "def theoreticalSolution(sideLength: float, holeRadius: float, ballRadius: float) -> float:\n",
    "    yardArea: float = squareArea(sideLength)\n",
    "    usableHoleArea: float = circleArea(holeRadius - ballRadius)\n",
    "    return usableHoleArea / yardArea\n",
    "    \n",
    "def squareArea(side: float) -> float:\n",
    "    return side ** 2\n",
    "\n",
    "def circleArea(radius: float) -> float:\n",
    "    return np.pi * radius ** 2\n",
    "\n",
    "def simulationSolution(sideLength: float, holeRadius: float, ballRadius: float) -> float:\n",
    "    centerX: float = sideLength / 2\n",
    "    centerY: float = sideLength / 2\n",
    "    usableHole = Circle(centerX, centerY, holeRadius - ballRadius)\n",
    "    \n",
    "    ballsInHole: int = 0\n",
    "    \n",
    "    for iteration in range(NO_SIMULATIONS):\n",
    "        ballX: np.float64 = getRandomCoordinateInYard(sideLength)\n",
    "        ballY: np.float64 = getRandomCoordinateInYard(sideLength)\n",
    "        \n",
    "        if isInCircle(Point(ballX, ballY), usableHole):\n",
    "            ballsInHole += 1\n",
    "        \n",
    "    return ballsInHole / NO_SIMULATIONS\n",
    "    \n",
    "def getRandomCoordinateInYard(side: float) -> np.float64:\n",
    "    sideInCentimeters = side * 100\n",
    "    return np.random.randint(low=0, high=sideInCentimeters, size=1, dtype=np.uint64) / 100\n",
    "\n",
    "def isInCircle(point: Point, circle: Circle) -> bool:\n",
    "    return (point.getXCoordinate() - circle.getCenter().getXCoordinate()) ** 2 + (point.getYCoordinate() - circle.getCenter().getYCoordinate()) ** 2 < circle.getRadius() ** 2\n",
    "\n",
    "def task7():\n",
    "    print(f'theoretical result: %1.4f' %(theoreticalSolution(1, 0.3, 0.01)))\n",
    "    print(f'simulation result: {simulationSolution(1, 0.3, 0.01)}')\n",
    "\n",
    "if __name__=='__main__':\n",
    "    task7()"
   ]
  }
 ],
 "metadata": {
  "kernelspec": {
   "display_name": "Python 3 (ipykernel)",
   "language": "python",
   "name": "python3"
  },
  "language_info": {
   "codemirror_mode": {
    "name": "ipython",
    "version": 3
   },
   "file_extension": ".py",
   "mimetype": "text/x-python",
   "name": "python",
   "nbconvert_exporter": "python",
   "pygments_lexer": "ipython3",
   "version": "3.12.9"
  }
 },
 "nbformat": 4,
 "nbformat_minor": 2
}
