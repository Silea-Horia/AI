{
 "cells": [
  {
   "cell_type": "code",
   "execution_count": null,
   "metadata": {},
   "outputs": [
    {
     "name": "stdout",
     "output_type": "stream",
     "text": [
      "[0.0, 1.224744871391589, -1.224744871391589]\n"
     ]
    }
   ],
   "source": [
    "from math import sqrt\n",
    "\n",
    "class Vector:\n",
    "    def __init__(self, features: list[int]):\n",
    "        self.features = features\n",
    "        self.n = len(features)\n",
    "        self.mean = self.determine_mean()\n",
    "        self.variance = self.determine_variance()\n",
    "        self.std = sqrt(self.variance)\n",
    "\n",
    "    def determine_mean(self) -> int:\n",
    "        sum = 0\n",
    "        for elem in self.features:\n",
    "            sum += elem\n",
    "        return sum / self.n\n",
    "    \n",
    "    def determine_variance(self) -> int:\n",
    "        sum = 0\n",
    "        for elem in self.features:\n",
    "            sum += (elem - self.mean) ** 2\n",
    "        return sum / self.n\n",
    "\n",
    "    def scale(self) -> list[int]:\n",
    "        scaled_vector = []\n",
    "        for elem in self.features:\n",
    "            scaled_vector.append((elem - self.mean) / self.std)\n",
    "\n",
    "        return scaled_vector\n",
    "        \n",
    "\n",
    "if __name__ == '__main__':\n",
    "    print(Vector([1, 2, 0]).scale())"
   ]
  }
 ],
 "metadata": {
  "kernelspec": {
   "display_name": "Python 3 (ipykernel)",
   "language": "python",
   "name": "python3"
  },
  "language_info": {
   "codemirror_mode": {
    "name": "ipython",
    "version": 3
   },
   "file_extension": ".py",
   "mimetype": "text/x-python",
   "name": "python",
   "nbconvert_exporter": "python",
   "pygments_lexer": "ipython3",
   "version": "3.12.9"
  }
 },
 "nbformat": 4,
 "nbformat_minor": 2
}
