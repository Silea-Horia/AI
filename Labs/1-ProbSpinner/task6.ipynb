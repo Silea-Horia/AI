{
 "cells": [
  {
   "cell_type": "code",
   "execution_count": 3,
   "metadata": {},
   "outputs": [
    {
     "name": "stdout",
     "output_type": "stream",
     "text": [
      "0\n",
      "2\n",
      "2\n",
      "0\n",
      "0\n",
      "2\n",
      "2\n",
      "0\n",
      "2\n",
      "0\n"
     ]
    }
   ],
   "source": [
    "import numpy as np\n",
    "\n",
    "def spinner(probabilityDistribution):\n",
    "    randomNumber = np.random.random(1)\n",
    "    cumulativeProbability = 0.0\n",
    "    for i, probability in enumerate(probabilityDistribution):\n",
    "        cumulativeProbability += probability\n",
    "        if randomNumber < cumulativeProbability:\n",
    "            return i\n",
    "\n",
    "def task6(angles):\n",
    "    probabilities = angles / 360\n",
    "    return spinner(probabilities)\n",
    "\n",
    "for i in range(10):\n",
    "    print(task6(np.array([180, 36, 144])))"
   ]
  },
  {
   "cell_type": "code",
   "execution_count": null,
   "metadata": {},
   "outputs": [],
   "source": []
  }
 ],
 "metadata": {
  "kernelspec": {
   "display_name": "Python 3 (ipykernel)",
   "language": "python",
   "name": "python3"
  },
  "language_info": {
   "codemirror_mode": {
    "name": "ipython",
    "version": 3
   },
   "file_extension": ".py",
   "mimetype": "text/x-python",
   "name": "python",
   "nbconvert_exporter": "python",
   "pygments_lexer": "ipython3",
   "version": "3.12.9"
  }
 },
 "nbformat": 4,
 "nbformat_minor": 4
}
